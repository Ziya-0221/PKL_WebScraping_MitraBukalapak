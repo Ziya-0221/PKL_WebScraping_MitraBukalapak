{
 "cells": [
  {
   "cell_type": "code",
   "execution_count": 7,
   "id": "500f7ed7",
   "metadata": {},
   "outputs": [
    {
     "name": "stdout",
     "output_type": "stream",
     "text": [
      "    No   Operator              Product  Nominal   Price  Discount\n",
      "0    1        Tri            Tri 1.000     1000    1350         0\n",
      "1    2        Tri            Tri 2.000     2000    2320         0\n",
      "2    3        Tri            Tri 3.000     3000    3350         0\n",
      "3    4        Tri            Tri 4.000     4000    4490         0\n",
      "4    5  Smartfren      Smartfren 5.000     5000    5400         0\n",
      "..  ..        ...                  ...      ...     ...       ...\n",
      "80  81         XL           XL 500.000   500000  503400         0\n",
      "81  82       Axis         Axis 500.000   500000  503400         0\n",
      "82  83  Telkomsel  Telkomsel 1.000.000  1000000  997450         0\n",
      "83  84         XL         XL 1.000.000  1000000  999830         0\n",
      "84  85       Axis       Axis 1.000.000  1000000  999730         0\n",
      "\n",
      "[85 rows x 6 columns]\n"
     ]
    }
   ],
   "source": [
    "import requests\n",
    "import pandas as pd\n",
    "\n",
    "url = 'https://api.bukalapak.com/phone-credits/prepaid-products?category=topup&group=agent&access_token=P0SHC2u7qRCPvLXI1hS8m4GV-1gY1pg_ZpVCfnOYvOW-tg'\n",
    "\n",
    "payload = {'group': 'agent',\n",
    "            'access_token': 'P0SHC2u7qRCPvLXI1hS8m4GV-1gY1pg_ZpVCfnOYvOW-tg'}\n",
    "\n",
    "headers = {\n",
    "    'authority': 'api.bukalapak.com',\n",
    "    'method': 'GET',\n",
    "    'path': '/phone-credits/prepaid-products?category=topup&group=agent&access_token=P0SHC2u7qRCPvLXI1hS8m4GV-1gY1pg_ZpVCfnOYvOW-tg',\n",
    "    'accept': 'application/vnd.bukalapak.v4+json',\n",
    "    'accept-encoding': 'gzip, deflate, br',\n",
    "    'accept-language': 'id-ID,id;q=0.9,en-US;q=0.8,en;q=0.7',\n",
    "    'content-type': 'application/json',\n",
    "    'origin': 'https://mitra.bukalapak.com',\n",
    "    'referer': 'https://mitra.bukalapak.com/',\n",
    "    'user-agent': 'Mozilla/5.0 (Windows NT 10.0; Win64; x64) AppleWebKit/537.36 (KHTML, like Gecko) Chrome/107.0.0.0 Safari/537.36'\n",
    "}\n",
    "\n",
    "res = requests.get( url, headers=headers, params=payload).json()\n",
    "# print(res)\n",
    "\n",
    "no = []\n",
    "products = []\n",
    "operators = []\n",
    "noms = []\n",
    "prices = []\n",
    "disct = []\n",
    "\n",
    "datas = res['data']\n",
    "for data in datas:\n",
    "    operator     = data['operator']['name']\n",
    "    product      = data['name'] \n",
    "    nominal      = data['nominal']\n",
    "    price        = data['partner_package']['package']['price']\n",
    "    discount     = data['partner_package']['package']['discount']\n",
    "    \n",
    "    operators.append(operator)\n",
    "    products.append(product)\n",
    "    noms.append(nominal)\n",
    "    prices.append(price)\n",
    "    disct.append(discount)\n",
    "    \n",
    "count = range(1, len(operators)+1)\n",
    "no.extend(count)\n",
    "\n",
    "    \n",
    "df = pd.DataFrame({\n",
    "    'No':no,\n",
    "    'Operator':operators,\n",
    "    'Product':products,\n",
    "    'Nominal': noms,\n",
    "    'Price': prices,\n",
    "    'Discount':disct\n",
    "    })\n",
    "df.to_csv('pulsa.csv', index=False)\n",
    "print(df)\n",
    "    \n",
    "#     print(operator)\n"
   ]
  },
  {
   "cell_type": "code",
   "execution_count": null,
   "id": "4bd48656",
   "metadata": {},
   "outputs": [],
   "source": []
  }
 ],
 "metadata": {
  "kernelspec": {
   "display_name": "Python 3 (ipykernel)",
   "language": "python",
   "name": "python3"
  },
  "language_info": {
   "codemirror_mode": {
    "name": "ipython",
    "version": 3
   },
   "file_extension": ".py",
   "mimetype": "text/x-python",
   "name": "python",
   "nbconvert_exporter": "python",
   "pygments_lexer": "ipython3",
   "version": "3.10.7"
  }
 },
 "nbformat": 4,
 "nbformat_minor": 5
}
