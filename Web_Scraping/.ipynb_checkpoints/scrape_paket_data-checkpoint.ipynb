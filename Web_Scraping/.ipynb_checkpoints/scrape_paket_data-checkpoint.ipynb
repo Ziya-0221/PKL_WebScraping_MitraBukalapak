{
 "cells": [
  {
   "cell_type": "code",
   "execution_count": 2,
   "id": "93eaa42e",
   "metadata": {},
   "outputs": [
    {
     "ename": "AttributeError",
     "evalue": "'int' object has no attribute 'append'",
     "output_type": "error",
     "traceback": [
      "\u001b[1;31m---------------------------------------------------------------------------\u001b[0m",
      "\u001b[1;31mAttributeError\u001b[0m                            Traceback (most recent call last)",
      "Cell \u001b[1;32mIn [2], line 46\u001b[0m\n\u001b[0;32m     43\u001b[0m \u001b[38;5;28;01mfor\u001b[39;00m no \u001b[38;5;129;01min\u001b[39;00m \u001b[38;5;28mrange\u001b[39m(\u001b[38;5;241m1\u001b[39m,\u001b[38;5;28mlen\u001b[39m(data)\u001b[38;5;241m+\u001b[39m\u001b[38;5;241m1\u001b[39m):\n\u001b[0;32m     44\u001b[0m     count \u001b[38;5;241m=\u001b[39m no\n\u001b[1;32m---> 46\u001b[0m \u001b[43mno\u001b[49m\u001b[38;5;241;43m.\u001b[39;49m\u001b[43mappend\u001b[49m(count)\n\u001b[0;32m     47\u001b[0m operators\u001b[38;5;241m.\u001b[39mappend(operator)\n\u001b[0;32m     48\u001b[0m products\u001b[38;5;241m.\u001b[39mappend(product)\n",
      "\u001b[1;31mAttributeError\u001b[0m: 'int' object has no attribute 'append'"
     ]
    }
   ],
   "source": [
    "import requests\n",
    "import pandas as pd\n",
    "\n",
    "# url = 'https://api.bukalapak.com/phone-credits/prepaid-products'\n",
    "url = 'https://api.bukalapak.com/phone-credits/prepaid-products?category=package&group=agent&access_token=P0SHC2u7qRCPvLXI1hS8m4GV-1gY1pg_ZpVCfnOYvOW-tg'\n",
    "\n",
    "payload = {'category':'package',\n",
    "            'group': 'agent',\n",
    "            'access_token': '5V3Ka8nNI9sprZ5katKKZP7AUsh-dSKEgjchEzbOS14Ybw'}\n",
    "\n",
    "headers = {\n",
    "    'authority': 'api.bukalapak.com',\n",
    "    'method': 'GET',\n",
    "    'path': '/phone-credits/prepaid-products?category=package&group=agent&access_token=P0SHC2u7qRCPvLXI1hS8m4GV-1gY1pg_ZpVCfnOYvOW-tg',\n",
    "    'accept': 'application/vnd.bukalapak.v4+json',\n",
    "    'accept-encoding': 'gzip, deflate, br',\n",
    "    'accept-language': 'id-ID,id;q=0.9,en-US;q=0.8,en;q=0.7',\n",
    "    'content-type': 'application/json',\n",
    "    'origin': 'https://mitra.bukalapak.com',\n",
    "    'referer': 'https://mitra.bukalapak.com/',\n",
    "    'user-agent': 'Mozilla/5.0 (Windows NT 10.0; Win64; x64) AppleWebKit/537.36 (KHTML, like Gecko) Chrome/107.0.0.0 Safari/537.36'\n",
    "}\n",
    "\n",
    "res = requests.get( url, headers=headers, params=payload).json()\n",
    "# print(res)\n",
    "\n",
    "no = []\n",
    "operators = []\n",
    "products = []\n",
    "descs = []\n",
    "normalPrices = []\n",
    "prices = []\n",
    "disct = []\n",
    "\n",
    "datas = res['data']\n",
    "for data in datas:\n",
    "    operator     = data['operator']['name']\n",
    "    product      = data['name']\n",
    "    desc         = data['description']\n",
    "    normal_price = data['partner_package']['package']['normal_price']\n",
    "    price        = data['partner_package']['package']['price']\n",
    "    discount     = data['partner_package']['package']['discount']\n",
    "    for no in range(1,len(data)+1):\n",
    "        count = no\n",
    "    \n",
    "    no.append(count)\n",
    "    operators.append(operator)\n",
    "    products.append(product)\n",
    "    descs.append(desc)\n",
    "    normalPrices.append(normal_price)\n",
    "    prices.append(price)\n",
    "    \n",
    "    df = pd.Dataframe({\n",
    "        'No':no,\n",
    "        'Operator':operators,\n",
    "        'Product':products,\n",
    "        'Description':descs,\n",
    "        'Normal Price': normalPrice,\n",
    "        'Price': prices,\n",
    "        'Discount':disct\n",
    "    })\n",
    "    df.to_csv('paket_data.csv', index=False)\n",
    "    print(df)\n",
    "    \n",
    "#     print(operator)\n"
   ]
  },
  {
   "cell_type": "code",
   "execution_count": null,
   "id": "a3ed3261",
   "metadata": {},
   "outputs": [],
   "source": []
  }
 ],
 "metadata": {
  "kernelspec": {
   "display_name": "Python 3 (ipykernel)",
   "language": "python",
   "name": "python3"
  },
  "language_info": {
   "codemirror_mode": {
    "name": "ipython",
    "version": 3
   },
   "file_extension": ".py",
   "mimetype": "text/x-python",
   "name": "python",
   "nbconvert_exporter": "python",
   "pygments_lexer": "ipython3",
   "version": "3.10.7"
  }
 },
 "nbformat": 4,
 "nbformat_minor": 5
}
